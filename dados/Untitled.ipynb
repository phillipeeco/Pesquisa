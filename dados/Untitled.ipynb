{
 "cells": [
  {
   "cell_type": "code",
   "execution_count": 51,
   "id": "4bf96d77",
   "metadata": {},
   "outputs": [],
   "source": [
    "import pandas as pd\n",
    "df = pd.read_excel('portocalvo-marco.xlsx')"
   ]
  },
  {
   "cell_type": "code",
   "execution_count": 52,
   "id": "632c95a5",
   "metadata": {},
   "outputs": [],
   "source": [
    "questao = 'Q1'\n",
    "questao2='Q2'"
   ]
  },
  {
   "cell_type": "code",
   "execution_count": 53,
   "id": "5985fcdd",
   "metadata": {},
   "outputs": [],
   "source": [
    "df_sexo = df"
   ]
  },
  {
   "cell_type": "code",
   "execution_count": 54,
   "id": "339ec318",
   "metadata": {},
   "outputs": [],
   "source": [
    "df_sexo = pd.crosstab(index=df_sexo[questao], columns = df_sexo[questao2], margins = True, margins_name = 'GERAL', normalize='columns')"
   ]
  },
  {
   "cell_type": "code",
   "execution_count": 55,
   "id": "e2824aa9",
   "metadata": {},
   "outputs": [],
   "source": [
    "df_sexo = round(df_sexo*100,2)"
   ]
  },
  {
   "cell_type": "code",
   "execution_count": 56,
   "id": "67e0e7f3",
   "metadata": {},
   "outputs": [
    {
     "data": {
      "text/html": [
       "<div>\n",
       "<style scoped>\n",
       "    .dataframe tbody tr th:only-of-type {\n",
       "        vertical-align: middle;\n",
       "    }\n",
       "\n",
       "    .dataframe tbody tr th {\n",
       "        vertical-align: top;\n",
       "    }\n",
       "\n",
       "    .dataframe thead th {\n",
       "        text-align: right;\n",
       "    }\n",
       "</style>\n",
       "<table border=\"1\" class=\"dataframe\">\n",
       "  <thead>\n",
       "    <tr style=\"text-align: right;\">\n",
       "      <th>Q2</th>\n",
       "      <th>NENHUMA</th>\n",
       "      <th>NS/NO</th>\n",
       "      <th>POUCAS</th>\n",
       "      <th>QUASE TODAS</th>\n",
       "      <th>TODAS</th>\n",
       "      <th>GERAL</th>\n",
       "    </tr>\n",
       "    <tr>\n",
       "      <th>Q1</th>\n",
       "      <th></th>\n",
       "      <th></th>\n",
       "      <th></th>\n",
       "      <th></th>\n",
       "      <th></th>\n",
       "      <th></th>\n",
       "    </tr>\n",
       "  </thead>\n",
       "  <tbody>\n",
       "    <tr>\n",
       "      <th>BOM</th>\n",
       "      <td>20.59</td>\n",
       "      <td>37.17</td>\n",
       "      <td>41.96</td>\n",
       "      <td>56.44</td>\n",
       "      <td>39.53</td>\n",
       "      <td>44.61</td>\n",
       "    </tr>\n",
       "    <tr>\n",
       "      <th>NS/NO</th>\n",
       "      <td>2.94</td>\n",
       "      <td>23.89</td>\n",
       "      <td>0.00</td>\n",
       "      <td>0.50</td>\n",
       "      <td>0.00</td>\n",
       "      <td>5.30</td>\n",
       "    </tr>\n",
       "    <tr>\n",
       "      <th>OTIMO</th>\n",
       "      <td>8.82</td>\n",
       "      <td>15.04</td>\n",
       "      <td>10.71</td>\n",
       "      <td>27.72</td>\n",
       "      <td>55.81</td>\n",
       "      <td>24.86</td>\n",
       "    </tr>\n",
       "    <tr>\n",
       "      <th>PESSIMO</th>\n",
       "      <td>23.53</td>\n",
       "      <td>5.31</td>\n",
       "      <td>6.25</td>\n",
       "      <td>1.49</td>\n",
       "      <td>0.00</td>\n",
       "      <td>4.39</td>\n",
       "    </tr>\n",
       "    <tr>\n",
       "      <th>REGULAR MAIS</th>\n",
       "      <td>8.82</td>\n",
       "      <td>13.27</td>\n",
       "      <td>25.89</td>\n",
       "      <td>10.89</td>\n",
       "      <td>1.16</td>\n",
       "      <td>12.80</td>\n",
       "    </tr>\n",
       "    <tr>\n",
       "      <th>REGULAR MENOS</th>\n",
       "      <td>14.71</td>\n",
       "      <td>4.42</td>\n",
       "      <td>14.29</td>\n",
       "      <td>2.97</td>\n",
       "      <td>2.33</td>\n",
       "      <td>6.22</td>\n",
       "    </tr>\n",
       "    <tr>\n",
       "      <th>RUIM</th>\n",
       "      <td>20.59</td>\n",
       "      <td>0.88</td>\n",
       "      <td>0.89</td>\n",
       "      <td>0.00</td>\n",
       "      <td>1.16</td>\n",
       "      <td>1.83</td>\n",
       "    </tr>\n",
       "  </tbody>\n",
       "</table>\n",
       "</div>"
      ],
      "text/plain": [
       "Q2             NENHUMA  NS/NO  POUCAS  QUASE TODAS  TODAS  GERAL\n",
       "Q1                                                              \n",
       "BOM              20.59  37.17   41.96        56.44  39.53  44.61\n",
       "NS/NO             2.94  23.89    0.00         0.50   0.00   5.30\n",
       "OTIMO             8.82  15.04   10.71        27.72  55.81  24.86\n",
       "PESSIMO          23.53   5.31    6.25         1.49   0.00   4.39\n",
       "REGULAR MAIS      8.82  13.27   25.89        10.89   1.16  12.80\n",
       "REGULAR MENOS    14.71   4.42   14.29         2.97   2.33   6.22\n",
       "RUIM             20.59   0.88    0.89         0.00   1.16   1.83"
      ]
     },
     "execution_count": 56,
     "metadata": {},
     "output_type": "execute_result"
    }
   ],
   "source": [
    "df_sexo"
   ]
  },
  {
   "cell_type": "code",
   "execution_count": null,
   "id": "4ae38c38",
   "metadata": {},
   "outputs": [],
   "source": []
  }
 ],
 "metadata": {
  "kernelspec": {
   "display_name": "Python 3 (ipykernel)",
   "language": "python",
   "name": "python3"
  },
  "language_info": {
   "codemirror_mode": {
    "name": "ipython",
    "version": 3
   },
   "file_extension": ".py",
   "mimetype": "text/x-python",
   "name": "python",
   "nbconvert_exporter": "python",
   "pygments_lexer": "ipython3",
   "version": "3.9.13"
  }
 },
 "nbformat": 4,
 "nbformat_minor": 5
}
